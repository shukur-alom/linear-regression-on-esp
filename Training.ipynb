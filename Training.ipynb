{
 "cells": [
  {
   "cell_type": "code",
   "execution_count": 1,
   "id": "055fcba5",
   "metadata": {
    "execution": {
     "iopub.execute_input": "2023-12-12T18:42:09.780845Z",
     "iopub.status.busy": "2023-12-12T18:42:09.780139Z",
     "iopub.status.idle": "2023-12-12T18:42:12.193812Z",
     "shell.execute_reply": "2023-12-12T18:42:12.192505Z"
    },
    "papermill": {
     "duration": 2.425053,
     "end_time": "2023-12-12T18:42:12.197190",
     "exception": false,
     "start_time": "2023-12-12T18:42:09.772137",
     "status": "completed"
    },
    "tags": []
   },
   "outputs": [],
   "source": [
    "import pandas as pd\n",
    "import seaborn as sns\n",
    "import matplotlib.pyplot as plt\n",
    "from sklearn.model_selection import train_test_split\n",
    "from sklearn.linear_model import LinearRegression    "
   ]
  },
  {
   "cell_type": "code",
   "execution_count": 2,
   "id": "5d5472ec",
   "metadata": {
    "execution": {
     "iopub.execute_input": "2023-12-12T18:42:12.210946Z",
     "iopub.status.busy": "2023-12-12T18:42:12.210345Z",
     "iopub.status.idle": "2023-12-12T18:42:13.574336Z",
     "shell.execute_reply": "2023-12-12T18:42:13.573325Z"
    },
    "papermill": {
     "duration": 1.373721,
     "end_time": "2023-12-12T18:42:13.577022",
     "exception": false,
     "start_time": "2023-12-12T18:42:12.203301",
     "status": "completed"
    },
    "tags": []
   },
   "outputs": [],
   "source": [
    "df = pd.read_csv(\"/kaggle/input/environmental-sensor-data-132k/iot_telemetry_data.csv\")"
   ]
  },
  {
   "cell_type": "code",
   "execution_count": 3,
   "id": "57d6439e",
   "metadata": {
    "execution": {
     "iopub.execute_input": "2023-12-12T18:42:13.590871Z",
     "iopub.status.busy": "2023-12-12T18:42:13.590155Z",
     "iopub.status.idle": "2023-12-12T18:42:13.622424Z",
     "shell.execute_reply": "2023-12-12T18:42:13.620997Z"
    },
    "papermill": {
     "duration": 0.042269,
     "end_time": "2023-12-12T18:42:13.625219",
     "exception": false,
     "start_time": "2023-12-12T18:42:13.582950",
     "status": "completed"
    },
    "tags": []
   },
   "outputs": [
    {
     "data": {
      "text/html": [
       "<div>\n",
       "<style scoped>\n",
       "    .dataframe tbody tr th:only-of-type {\n",
       "        vertical-align: middle;\n",
       "    }\n",
       "\n",
       "    .dataframe tbody tr th {\n",
       "        vertical-align: top;\n",
       "    }\n",
       "\n",
       "    .dataframe thead th {\n",
       "        text-align: right;\n",
       "    }\n",
       "</style>\n",
       "<table border=\"1\" class=\"dataframe\">\n",
       "  <thead>\n",
       "    <tr style=\"text-align: right;\">\n",
       "      <th></th>\n",
       "      <th>ts</th>\n",
       "      <th>device</th>\n",
       "      <th>co</th>\n",
       "      <th>humidity</th>\n",
       "      <th>light</th>\n",
       "      <th>lpg</th>\n",
       "      <th>motion</th>\n",
       "      <th>smoke</th>\n",
       "      <th>temp</th>\n",
       "    </tr>\n",
       "  </thead>\n",
       "  <tbody>\n",
       "    <tr>\n",
       "      <th>0</th>\n",
       "      <td>1.594512e+09</td>\n",
       "      <td>b8:27:eb:bf:9d:51</td>\n",
       "      <td>0.004956</td>\n",
       "      <td>51.000000</td>\n",
       "      <td>False</td>\n",
       "      <td>0.007651</td>\n",
       "      <td>False</td>\n",
       "      <td>0.020411</td>\n",
       "      <td>22.700000</td>\n",
       "    </tr>\n",
       "    <tr>\n",
       "      <th>1</th>\n",
       "      <td>1.594512e+09</td>\n",
       "      <td>00:0f:00:70:91:0a</td>\n",
       "      <td>0.002840</td>\n",
       "      <td>76.000000</td>\n",
       "      <td>False</td>\n",
       "      <td>0.005114</td>\n",
       "      <td>False</td>\n",
       "      <td>0.013275</td>\n",
       "      <td>19.700001</td>\n",
       "    </tr>\n",
       "    <tr>\n",
       "      <th>2</th>\n",
       "      <td>1.594512e+09</td>\n",
       "      <td>b8:27:eb:bf:9d:51</td>\n",
       "      <td>0.004976</td>\n",
       "      <td>50.900000</td>\n",
       "      <td>False</td>\n",
       "      <td>0.007673</td>\n",
       "      <td>False</td>\n",
       "      <td>0.020475</td>\n",
       "      <td>22.600000</td>\n",
       "    </tr>\n",
       "    <tr>\n",
       "      <th>3</th>\n",
       "      <td>1.594512e+09</td>\n",
       "      <td>1c:bf:ce:15:ec:4d</td>\n",
       "      <td>0.004403</td>\n",
       "      <td>76.800003</td>\n",
       "      <td>True</td>\n",
       "      <td>0.007023</td>\n",
       "      <td>False</td>\n",
       "      <td>0.018628</td>\n",
       "      <td>27.000000</td>\n",
       "    </tr>\n",
       "    <tr>\n",
       "      <th>4</th>\n",
       "      <td>1.594512e+09</td>\n",
       "      <td>b8:27:eb:bf:9d:51</td>\n",
       "      <td>0.004967</td>\n",
       "      <td>50.900000</td>\n",
       "      <td>False</td>\n",
       "      <td>0.007664</td>\n",
       "      <td>False</td>\n",
       "      <td>0.020448</td>\n",
       "      <td>22.600000</td>\n",
       "    </tr>\n",
       "  </tbody>\n",
       "</table>\n",
       "</div>"
      ],
      "text/plain": [
       "             ts             device        co   humidity  light       lpg  \\\n",
       "0  1.594512e+09  b8:27:eb:bf:9d:51  0.004956  51.000000  False  0.007651   \n",
       "1  1.594512e+09  00:0f:00:70:91:0a  0.002840  76.000000  False  0.005114   \n",
       "2  1.594512e+09  b8:27:eb:bf:9d:51  0.004976  50.900000  False  0.007673   \n",
       "3  1.594512e+09  1c:bf:ce:15:ec:4d  0.004403  76.800003   True  0.007023   \n",
       "4  1.594512e+09  b8:27:eb:bf:9d:51  0.004967  50.900000  False  0.007664   \n",
       "\n",
       "   motion     smoke       temp  \n",
       "0   False  0.020411  22.700000  \n",
       "1   False  0.013275  19.700001  \n",
       "2   False  0.020475  22.600000  \n",
       "3   False  0.018628  27.000000  \n",
       "4   False  0.020448  22.600000  "
      ]
     },
     "execution_count": 3,
     "metadata": {},
     "output_type": "execute_result"
    }
   ],
   "source": [
    "df.head(5)"
   ]
  },
  {
   "cell_type": "code",
   "execution_count": 4,
   "id": "f535da12",
   "metadata": {
    "execution": {
     "iopub.execute_input": "2023-12-12T18:42:13.640138Z",
     "iopub.status.busy": "2023-12-12T18:42:13.639721Z",
     "iopub.status.idle": "2023-12-12T18:42:13.655367Z",
     "shell.execute_reply": "2023-12-12T18:42:13.654064Z"
    },
    "papermill": {
     "duration": 0.025958,
     "end_time": "2023-12-12T18:42:13.657943",
     "exception": false,
     "start_time": "2023-12-12T18:42:13.631985",
     "status": "completed"
    },
    "tags": []
   },
   "outputs": [],
   "source": [
    "df = df[['temp',\"smoke\",\"humidity\"]]"
   ]
  },
  {
   "cell_type": "markdown",
   "id": "69a1768e",
   "metadata": {
    "papermill": {
     "duration": 0.005841,
     "end_time": "2023-12-12T18:42:13.670063",
     "exception": false,
     "start_time": "2023-12-12T18:42:13.664222",
     "status": "completed"
    },
    "tags": []
   },
   "source": [
    "# **sensor data anomaly detection**"
   ]
  },
  {
   "cell_type": "code",
   "execution_count": 5,
   "id": "87adaeae",
   "metadata": {
    "execution": {
     "iopub.execute_input": "2023-12-12T18:42:13.684766Z",
     "iopub.status.busy": "2023-12-12T18:42:13.684345Z",
     "iopub.status.idle": "2023-12-12T18:42:14.316859Z",
     "shell.execute_reply": "2023-12-12T18:42:14.315651Z"
    },
    "papermill": {
     "duration": 0.64301,
     "end_time": "2023-12-12T18:42:14.319879",
     "exception": false,
     "start_time": "2023-12-12T18:42:13.676869",
     "status": "completed"
    },
    "tags": []
   },
   "outputs": [
    {
     "data": {
      "image/png": "[encoded data removed]",
      "text/plain": [
       "<Figure size 1500x600 with 3 Axes>"
      ]
     },
     "metadata": {},
     "output_type": "display_data"
    }
   ],
   "source": [
    "plt.figure(figsize=(15,6))\n",
    "for i,name in enumerate(df[[\"smoke\",\"temp\",\"humidity\"]].columns):\n",
    "    plt.subplot(1,5,i+1)\n",
    "    sns.boxplot(x=df[name],palette=[\"m\", \"g\"])\n",
    "    sns.despine(offset=10, trim=True)\n",
    "    plt.ylabel(name)\n",
    "\n",
    "plt.suptitle(\"Boxplot without remove outlier\")\n",
    "plt.tight_layout()\n",
    "plt.show()"
   ]
  },
  {
   "cell_type": "code",
   "execution_count": 6,
   "id": "143a3e84",
   "metadata": {
    "execution": {
     "iopub.execute_input": "2023-12-12T18:42:14.335831Z",
     "iopub.status.busy": "2023-12-12T18:42:14.334582Z",
     "iopub.status.idle": "2023-12-12T18:42:14.425387Z",
     "shell.execute_reply": "2023-12-12T18:42:14.424382Z"
    },
    "papermill": {
     "duration": 0.101038,
     "end_time": "2023-12-12T18:42:14.427703",
     "exception": false,
     "start_time": "2023-12-12T18:42:14.326665",
     "status": "completed"
    },
    "tags": []
   },
   "outputs": [
    {
     "name": "stdout",
     "output_type": "stream",
     "text": [
      "temp\n",
      "smoke\n",
      "humidity\n"
     ]
    }
   ],
   "source": [
    "for col_name in df.columns:\n",
    "    print(col_name)\n",
    "    q1 = df[col_name].quantile(0.25)\n",
    "    q3 = df[col_name].quantile(0.75)\n",
    "    iqr = q3 - q1\n",
    "    low = q1-1.5*iqr \n",
    "    high = q3+1.5*iqr \n",
    "    df = df[df[col_name]>=low]\n",
    "    df = df[df[col_name]<=high]"
   ]
  },
  {
   "cell_type": "code",
   "execution_count": 7,
   "id": "43dcea13",
   "metadata": {
    "execution": {
     "iopub.execute_input": "2023-12-12T18:42:14.443173Z",
     "iopub.status.busy": "2023-12-12T18:42:14.442490Z",
     "iopub.status.idle": "2023-12-12T18:42:15.002208Z",
     "shell.execute_reply": "2023-12-12T18:42:15.000864Z"
    },
    "papermill": {
     "duration": 0.570394,
     "end_time": "2023-12-12T18:42:15.004917",
     "exception": false,
     "start_time": "2023-12-12T18:42:14.434523",
     "status": "completed"
    },
    "tags": []
   },
   "outputs": [
    {
     "data": {
      "image/png": "[encoded data removed]",
      "text/plain": [
       "<Figure size 1500x600 with 3 Axes>"
      ]
     },
     "metadata": {},
     "output_type": "display_data"
    }
   ],
   "source": [
    "plt.figure(figsize=(15,6))\n",
    "for i,name in enumerate(df[[\"smoke\",\"temp\",\"humidity\"]].columns):\n",
    "    plt.subplot(1,5,i+1)\n",
    "    sns.boxplot(x=df[name],palette=[\"m\", \"g\"])\n",
    "    sns.despine(offset=10, trim=True)\n",
    "    plt.ylabel(name)\n",
    "\n",
    "plt.suptitle(\"Boxplot with remove outlier\")\n",
    "plt.tight_layout()\n",
    "plt.show()"
   ]
  },
  {
   "cell_type": "code",
   "execution_count": 8,
   "id": "3a663cc3",
   "metadata": {
    "execution": {
     "iopub.execute_input": "2023-12-12T18:42:15.021486Z",
     "iopub.status.busy": "2023-12-12T18:42:15.021057Z",
     "iopub.status.idle": "2023-12-12T18:42:15.029010Z",
     "shell.execute_reply": "2023-12-12T18:42:15.027865Z"
    },
    "papermill": {
     "duration": 0.019061,
     "end_time": "2023-12-12T18:42:15.031448",
     "exception": false,
     "start_time": "2023-12-12T18:42:15.012387",
     "status": "completed"
    },
    "tags": []
   },
   "outputs": [],
   "source": [
    "y = df['humidity']\n",
    "x = df[['temp',\"smoke\"]]"
   ]
  },
  {
   "cell_type": "code",
   "execution_count": 9,
   "id": "bf090ff2",
   "metadata": {
    "execution": {
     "iopub.execute_input": "2023-12-12T18:42:15.048178Z",
     "iopub.status.busy": "2023-12-12T18:42:15.047680Z",
     "iopub.status.idle": "2023-12-12T18:42:15.102940Z",
     "shell.execute_reply": "2023-12-12T18:42:15.101778Z"
    },
    "papermill": {
     "duration": 0.066675,
     "end_time": "2023-12-12T18:42:15.105553",
     "exception": false,
     "start_time": "2023-12-12T18:42:15.038878",
     "status": "completed"
    },
    "tags": []
   },
   "outputs": [],
   "source": [
    "X_train, X_test, y_train, y_test = train_test_split( x, y, test_size=0.33, random_state=42)"
   ]
  },
  {
   "cell_type": "code",
   "execution_count": 10,
   "id": "a23cb0e3",
   "metadata": {
    "execution": {
     "iopub.execute_input": "2023-12-12T18:42:15.122127Z",
     "iopub.status.busy": "2023-12-12T18:42:15.121714Z",
     "iopub.status.idle": "2023-12-12T18:42:15.206322Z",
     "shell.execute_reply": "2023-12-12T18:42:15.205241Z"
    },
    "papermill": {
     "duration": 0.098495,
     "end_time": "2023-12-12T18:42:15.211404",
     "exception": false,
     "start_time": "2023-12-12T18:42:15.112909",
     "status": "completed"
    },
    "tags": []
   },
   "outputs": [
    {
     "data": {
      "text/html": [
       "<style>#sk-container-id-1 {color: black;background-color: white;}#sk-container-id-1 pre{padding: 0;}#sk-container-id-1 div.sk-toggleable {background-color: white;}#sk-container-id-1 label.sk-toggleable__label {cursor: pointer;display: block;width: 100%;margin-bottom: 0;padding: 0.3em;box-sizing: border-box;text-align: center;}#sk-container-id-1 label.sk-toggleable__label-arrow:before {content: \"▸\";float: left;margin-right: 0.25em;color: #696969;}#sk-container-id-1 label.sk-toggleable__label-arrow:hover:before {color: black;}#sk-container-id-1 div.sk-estimator:hover label.sk-toggleable__label-arrow:before {color: black;}#sk-container-id-1 div.sk-toggleable__content {max-height: 0;max-width: 0;overflow: hidden;text-align: left;background-color: #f0f8ff;}#sk-container-id-1 div.sk-toggleable__content pre {margin: 0.2em;color: black;border-radius: 0.25em;background-color: #f0f8ff;}#sk-container-id-1 input.sk-toggleable__control:checked~div.sk-toggleable__content {max-height: 200px;max-width: 100%;overflow: auto;}#sk-container-id-1 input.sk-toggleable__control:checked~label.sk-toggleable__label-arrow:before {content: \"▾\";}#sk-container-id-1 div.sk-estimator input.sk-toggleable__control:checked~label.sk-toggleable__label {background-color: #d4ebff;}#sk-container-id-1 div.sk-label input.sk-toggleable__control:checked~label.sk-toggleable__label {background-color: #d4ebff;}#sk-container-id-1 input.sk-hidden--visually {border: 0;clip: rect(1px 1px 1px 1px);clip: rect(1px, 1px, 1px, 1px);height: 1px;margin: -1px;overflow: hidden;padding: 0;position: absolute;width: 1px;}#sk-container-id-1 div.sk-estimator {font-family: monospace;background-color: #f0f8ff;border: 1px dotted black;border-radius: 0.25em;box-sizing: border-box;margin-bottom: 0.5em;}#sk-container-id-1 div.sk-estimator:hover {background-color: #d4ebff;}#sk-container-id-1 div.sk-parallel-item::after {content: \"\";width: 100%;border-bottom: 1px solid gray;flex-grow: 1;}#sk-container-id-1 div.sk-label:hover label.sk-toggleable__label {background-color: #d4ebff;}#sk-container-id-1 div.sk-serial::before {content: \"\";position: absolute;border-left: 1px solid gray;box-sizing: border-box;top: 0;bottom: 0;left: 50%;z-index: 0;}#sk-container-id-1 div.sk-serial {display: flex;flex-direction: column;align-items: center;background-color: white;padding-right: 0.2em;padding-left: 0.2em;position: relative;}#sk-container-id-1 div.sk-item {position: relative;z-index: 1;}#sk-container-id-1 div.sk-parallel {display: flex;align-items: stretch;justify-content: center;background-color: white;position: relative;}#sk-container-id-1 div.sk-item::before, #sk-container-id-1 div.sk-parallel-item::before {content: \"\";position: absolute;border-left: 1px solid gray;box-sizing: border-box;top: 0;bottom: 0;left: 50%;z-index: -1;}#sk-container-id-1 div.sk-parallel-item {display: flex;flex-direction: column;z-index: 1;position: relative;background-color: white;}#sk-container-id-1 div.sk-parallel-item:first-child::after {align-self: flex-end;width: 50%;}#sk-container-id-1 div.sk-parallel-item:last-child::after {align-self: flex-start;width: 50%;}#sk-container-id-1 div.sk-parallel-item:only-child::after {width: 0;}#sk-container-id-1 div.sk-dashed-wrapped {border: 1px dashed gray;margin: 0 0.4em 0.5em 0.4em;box-sizing: border-box;padding-bottom: 0.4em;background-color: white;}#sk-container-id-1 div.sk-label label {font-family: monospace;font-weight: bold;display: inline-block;line-height: 1.2em;}#sk-container-id-1 div.sk-label-container {text-align: center;}#sk-container-id-1 div.sk-container {/* jupyter's `normalize.less` sets `[hidden] { display: none; }` but bootstrap.min.css set `[hidden] { display: none !important; }` so we also need the `!important` here to be able to override the default hidden behavior on the sphinx rendered scikit-learn.org. See: https://github.com/scikit-learn/scikit-learn/issues/21755 */display: inline-block !important;position: relative;}#sk-container-id-1 div.sk-text-repr-fallback {display: none;}</style><div id=\"sk-container-id-1\" class=\"sk-top-container\"><div class=\"sk-text-repr-fallback\"><pre>LinearRegression()</pre><b>In a Jupyter environment, please rerun this cell to show the HTML representation or trust the notebook. <br />On GitHub, the HTML representation is unable to render, please try loading this page with nbviewer.org.</b></div><div class=\"sk-container\" hidden><div class=\"sk-item\"><div class=\"sk-estimator sk-toggleable\"><input class=\"sk-toggleable__control sk-hidden--visually\" id=\"sk-estimator-id-1\" type=\"checkbox\" checked><label for=\"sk-estimator-id-1\" class=\"sk-toggleable__label sk-toggleable__label-arrow\">LinearRegression</label><div class=\"sk-toggleable__content\"><pre>LinearRegression()</pre></div></div></div></div></div>"
      ],
      "text/plain": [
       "LinearRegression()"
      ]
     },
     "execution_count": 10,
     "metadata": {},
     "output_type": "execute_result"
    }
   ],
   "source": [
    "l_r = LinearRegression()\n",
    "l_r.fit(X_train, y_train)\n"
   ]
  },
  {
   "cell_type": "code",
   "execution_count": 11,
   "id": "a0c9541b",
   "metadata": {
    "execution": {
     "iopub.execute_input": "2023-12-12T18:42:15.236828Z",
     "iopub.status.busy": "2023-12-12T18:42:15.235612Z",
     "iopub.status.idle": "2023-12-12T18:42:15.253191Z",
     "shell.execute_reply": "2023-12-12T18:42:15.251747Z"
    },
    "papermill": {
     "duration": 0.035854,
     "end_time": "2023-12-12T18:42:15.258839",
     "exception": false,
     "start_time": "2023-12-12T18:42:15.222985",
     "status": "completed"
    },
    "tags": []
   },
   "outputs": [
    {
     "data": {
      "text/plain": [
       "0.6375432704890593"
      ]
     },
     "execution_count": 11,
     "metadata": {},
     "output_type": "execute_result"
    }
   ],
   "source": [
    "l_r.score(X_test,y_test)"
   ]
  },
  {
   "cell_type": "code",
   "execution_count": 12,
   "id": "803c95fd",
   "metadata": {
    "execution": {
     "iopub.execute_input": "2023-12-12T18:42:15.322074Z",
     "iopub.status.busy": "2023-12-12T18:42:15.321336Z",
     "iopub.status.idle": "2023-12-12T18:42:15.331842Z",
     "shell.execute_reply": "2023-12-12T18:42:15.330617Z"
    },
    "papermill": {
     "duration": 0.042341,
     "end_time": "2023-12-12T18:42:15.345252",
     "exception": false,
     "start_time": "2023-12-12T18:42:15.302911",
     "status": "completed"
    },
    "tags": []
   },
   "outputs": [
    {
     "data": {
      "text/plain": [
       "array([-1.34373614e+00, -2.19980885e+03])"
      ]
     },
     "execution_count": 12,
     "metadata": {},
     "output_type": "execute_result"
    }
   ],
   "source": [
    "l_r.coef_"
   ]
  },
  {
   "cell_type": "code",
   "execution_count": 13,
   "id": "303f3895",
   "metadata": {
    "execution": {
     "iopub.execute_input": "2023-12-12T18:42:15.377531Z",
     "iopub.status.busy": "2023-12-12T18:42:15.377112Z",
     "iopub.status.idle": "2023-12-12T18:42:15.389315Z",
     "shell.execute_reply": "2023-12-12T18:42:15.388464Z"
    },
    "papermill": {
     "duration": 0.025445,
     "end_time": "2023-12-12T18:42:15.391698",
     "exception": false,
     "start_time": "2023-12-12T18:42:15.366253",
     "status": "completed"
    },
    "tags": []
   },
   "outputs": [
    {
     "data": {
      "text/plain": [
       "133.04486561723618"
      ]
     },
     "execution_count": 13,
     "metadata": {},
     "output_type": "execute_result"
    }
   ],
   "source": [
    "l_r.intercept_"
   ]
  },
  {
   "cell_type": "code",
   "execution_count": 14,
   "id": "6600439e",
   "metadata": {
    "execution": {
     "iopub.execute_input": "2023-12-12T18:42:15.410533Z",
     "iopub.status.busy": "2023-12-12T18:42:15.409896Z",
     "iopub.status.idle": "2023-12-12T18:42:15.413783Z",
     "shell.execute_reply": "2023-12-12T18:42:15.412982Z"
    },
    "papermill": {
     "duration": 0.015774,
     "end_time": "2023-12-12T18:42:15.416028",
     "exception": false,
     "start_time": "2023-12-12T18:42:15.400254",
     "status": "completed"
    },
    "tags": []
   },
   "outputs": [],
   "source": [
    "# main formula is {(-1.2504109682152187 * temp) + (-1989.4947530261543 * smoke) + 126.70601295195848}"
   ]
  },
  {
   "cell_type": "code",
   "execution_count": null,
   "id": "4213bcbd",
   "metadata": {
    "papermill": {
     "duration": 0.007571,
     "end_time": "2023-12-12T18:42:15.431627",
     "exception": false,
     "start_time": "2023-12-12T18:42:15.424056",
     "status": "completed"
    },
    "tags": []
   },
   "outputs": [],
   "source": []
  }
 ],
 "metadata": {
  "kaggle": {
   "accelerator": "none",
   "dataSources": [
    {
     "datasetId": 788816,
     "sourceId": 1355729,
     "sourceType": "datasetVersion"
    }
   ],
   "dockerImageVersionId": 30615,
   "isGpuEnabled": false,
   "isInternetEnabled": true,
   "language": "python",
   "sourceType": "notebook"
  },
  "kernelspec": {
   "display_name": "Python 3",
   "language": "python",
   "name": "python3"
  },
  "language_info": {
   "codemirror_mode": {
    "name": "ipython",
    "version": 3
   },
   "file_extension": ".py",
   "mimetype": "text/x-python",
   "name": "python",
   "nbconvert_exporter": "python",
   "pygments_lexer": "ipython3",
   "version": "3.10.12"
  },
  "papermill": {
   "default_parameters": {},
   "duration": 10.087338,
   "end_time": "2023-12-12T18:42:16.160832",
   "environment_variables": {},
   "exception": null,
   "input_path": "__notebook__.ipynb",
   "output_path": "__notebook__.ipynb",
   "parameters": {},
   "start_time": "2023-12-12T18:42:06.073494",
   "version": "2.4.0"
  }
 },
 "nbformat": 4,
 "nbformat_minor": 5
}
